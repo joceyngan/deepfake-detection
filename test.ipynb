{
 "cells": [
  {
   "cell_type": "markdown",
   "id": "88dd8551",
   "metadata": {},
   "source": [
    "Course: CS4487 project  \n",
    "Group 16  \n",
    "Student Name: Fung Sze Man  (SID: 56344553)  \n",
    "Student Name: Chiu Chun Choi (SID: 56666173)"
   ]
  },
  {
   "cell_type": "markdown",
   "id": "b3f060ef",
   "metadata": {},
   "source": [
    "# Requirements.txt:  \n",
    "torch  \n",
    "torchvision  \n",
    "numpy  \n",
    "matplotlib==3.8.2  \n",
    "tqdm==4.66.1  \n",
    "efficientnet-pytorch==0.7.1  \n",
    "scikit-learn==1.3.2  "
   ]
  },
  {
   "cell_type": "markdown",
   "id": "6eaf0d80",
   "metadata": {},
   "source": [
    "# Testing the model  \n",
    "please run the cells for testing after the following steps are done  \n",
    "\n",
    "0. please make sure the following folder structure, create these under root dir if not exist:   \n",
    "    - ./Datasets\n",
    "    - ./results\n",
    "1. install the requirements listed above\n",
    "2. put the model under \"./results\", please make sure the model_save_name is changed to the path under \"./results\" where the model is stored for testing and adjust other related configurations if needed \n",
    "3. put the test dataset in ./Dataset   \n",
    "4. change the \"val\" in following line in the 4th cell below to the subfolder name containing test set e.g if the subfolder is \"test\" then change to \"test\"\n",
    "\"test_dataset = datasets.ImageFolder(os.path.join(test_config[\"data_root\"], \"val\"), transform=transform\""
   ]
  },
  {
   "cell_type": "code",
   "execution_count": null,
   "id": "f991df77",
   "metadata": {},
   "outputs": [],
   "source": [
    "import os\n",
    "import efficientnet_pytorch\n",
    "import torch\n",
    "from torchvision import datasets, transforms\n",
    "from torch.utils.data import DataLoader\n",
    "from sklearn.metrics import accuracy_score, recall_score, precision_score, roc_auc_score\n",
    "import numpy as np"
   ]
  },
  {
   "cell_type": "markdown",
   "id": "06c4394d",
   "metadata": {},
   "source": [
    "Altering the output from EffecientNet for our train/test task"
   ]
  },
  {
   "cell_type": "code",
   "execution_count": 2,
   "id": "c9f41e14",
   "metadata": {},
   "outputs": [],
   "source": [
    "class CustomEfficientNet(nn.Module):\n",
    "    def __init__(self, num_class):\n",
    "        super(CustomEfficientNet, self).__init__()\n",
    "        self.base_model = efficientnet_pytorch.EfficientNet.from_pretrained(\n",
    "            'efficientnet-b0'\n",
    "        )\n",
    "        self.base_model._fc = nn.Linear(\n",
    "            in_features=self.base_model._fc.in_features, \n",
    "            out_features=num_class, \n",
    "            bias=True\n",
    "        )\n",
    "        self.sigmoid = nn.Sigmoid()\n",
    "    \n",
    "    def forward(self, x):\n",
    "        x = self.base_model(x)\n",
    "        return x"
   ]
  },
  {
   "cell_type": "code",
   "execution_count": 17,
   "id": "d656c30e",
   "metadata": {},
   "outputs": [],
   "source": [
    "test_config = {\n",
    "    \"model_name\": \"efficientnet_b0\",  # same as training configuration\n",
    "    \"batch_size\": 8,  # can be different from training batch size\n",
    "    \"data_root\": \"../Dataset\",  # root directory of the test dataset\n",
    "    \"output_dir\": \"./results\",  # directory where the model is saved\n",
    "    \"gpus\": [0],               # Default is GPU 0, change to [0, 1] for both GPUs\n",
    "    \"model_save_name\": \"efficientnet_b0-20231208094757/efficientnet_b0-20231208094757.pth\"  # name of the saved model file\n",
    "}"
   ]
  },
  {
   "cell_type": "markdown",
   "id": "c16b2cff",
   "metadata": {},
   "source": [
    "load model function"
   ]
  },
  {
   "cell_type": "code",
   "execution_count": 18,
   "id": "8eae910e",
   "metadata": {},
   "outputs": [],
   "source": [
    "def load_model(model_path, model, device):\n",
    "    model.load_state_dict(torch.load(model_path))\n",
    "    model.to(device)\n",
    "    model.eval()\n",
    "    return model"
   ]
  },
  {
   "cell_type": "markdown",
   "id": "471ee74f",
   "metadata": {},
   "source": [
    "load the model with above configuration, test set, and prepare test set loader  "
   ]
  },
  {
   "cell_type": "code",
   "execution_count": 19,
   "id": "3546ab13",
   "metadata": {},
   "outputs": [
    {
     "name": "stdout",
     "output_type": "stream",
     "text": [
      "1\n",
      "Loaded pretrained weights for efficientnet-b0\n"
     ]
    }
   ],
   "source": [
    "if test_config[\"model_name\"].lower()[:3] == \"vit\":\n",
    "    transform = transforms.Compose([\n",
    "        transforms.Resize((224)),\n",
    "        transforms.ToTensor(),\n",
    "        transforms.Normalize([0.0291, 0.0269, 0.0253], [0.1319, 0.1239, 0.1194]),\n",
    "        # to save computation cost use pre calculated mean and std here, for other datasets use getmeanstd()\n",
    "    ])\n",
    "else:\n",
    "    transform = transforms.Compose([\n",
    "        transforms.ToTensor(),\n",
    "        transforms.Normalize([0.0291, 0.0269, 0.0253], [0.1319, 0.1239, 0.1194]),\n",
    "        # to save computation cost use pre calculated mean and std here, for other datasets use getmeanstd()\n",
    "    ])\n",
    "\n",
    "test_dataset = datasets.ImageFolder(os.path.join(test_config[\"data_root\"], \"val\"), transform=transform)\n",
    "test_loader = DataLoader(test_dataset, batch_size=test_config[\"batch_size\"], shuffle=False)\n",
    "\n",
    "num_classes = len(test_dataset.classes)\n",
    "out_features =  1 if num_classes < 3 else num_classes\n",
    "print(out_features)\n",
    "\n",
    "if test_config[\"model_name\"].lower() == \"vit_l_32\":\n",
    "    model = models.vit_l_32(pretrained=False)\n",
    "elif test_config[\"model_name\"].lower() == \"swin_v2_b\":\n",
    "    model = models.swin_v2_b(pretrained=False)\n",
    "elif test_config[\"model_name\"].lower() == \"efficientnet_b0\":\n",
    "    model = CustomEfficientNet(out_features)\n",
    "else:\n",
    "    raise ValueError(\"Unsupported model\")\n",
    "\n",
    "# GPU setup\n",
    "device = torch.device(f\"cuda:{test_config['gpus'][0]}\" if torch.cuda.is_available() else \"cpu\")\n",
    "model.to(device)\n",
    "\n",
    "if len(config[\"gpus\"]) > 1:\n",
    "    model = nn.DataParallel(model, device_ids=config[\"gpus\"])\n",
    "\n",
    "# Load the trained model\n",
    "model_path = os.path.join(test_config[\"output_dir\"], test_config[\"model_save_name\"])\n",
    "model = load_model( model_path, model, device)"
   ]
  },
  {
   "cell_type": "markdown",
   "id": "45ca6068",
   "metadata": {},
   "source": [
    "### The following cell is our test inference code"
   ]
  },
  {
   "cell_type": "code",
   "execution_count": null,
   "id": "655ccf9d",
   "metadata": {},
   "outputs": [],
   "source": [
    "def test(model, test_loader):\n",
    "    model.eval()\n",
    "    all_labels = []\n",
    "    all_predictions = []\n",
    "    \n",
    "    with torch.no_grad():\n",
    "        for images, labels in test_loader:\n",
    "            images, labels = images.to(device), labels.to(device).float()\n",
    "            outputs = model(images)\n",
    "            \n",
    "            # different handle for multi classes\n",
    "            if out_features > 1: \n",
    "                labels = labels.type(torch.LongTensor).to(device)\n",
    "            else:\n",
    "                labels = labels.unsqueeze(1)\n",
    "\n",
    "            # different handle for multi classes\n",
    "            if out_features > 1:\n",
    "                predictions = torch.max(outputs,1).indices\n",
    "            else:\n",
    "                predictions = torch.sigmoid(outputs) > 0.5\n",
    "                predictions = predictions.type(torch.LongTensor).to(device)\n",
    "\n",
    "            all_labels.extend(labels.cpu().numpy())\n",
    "            all_predictions.extend(predictions.cpu().numpy())\n",
    "\n",
    "    all_labels = np.array(all_labels)\n",
    "    all_predictions = np.array(all_predictions)\n",
    "\n",
    "    accuracy = accuracy_score(all_labels, all_predictions)\n",
    "    recall = recall_score(all_labels, all_predictions, average='weighted')\n",
    "    precision = precision_score(all_labels, all_predictions, average='weighted')\n",
    "    auc = roc_auc_score(all_labels, all_predictions)\n",
    "\n",
    "    print(f'Test Results\\n Accuracy: {accuracy:.4f},\\n Recall: {recall:.4f},\\n Precision: {precision:.4f},\\n AUC: {auc:.4f}')\n",
    "    return accuracy, recall, precision, auc\n",
    "\n",
    "# run testing\n",
    "accuracy, recall, precision, auc = test(model, test_loader)"
   ]
  }
 ],
 "metadata": {
  "kernelspec": {
   "display_name": "Python 3 (ipykernel)",
   "language": "python",
   "name": "python3"
  },
  "language_info": {
   "codemirror_mode": {
    "name": "ipython",
    "version": 3
   },
   "file_extension": ".py",
   "mimetype": "text/x-python",
   "name": "python",
   "nbconvert_exporter": "python",
   "pygments_lexer": "ipython3",
   "version": "3.11.5"
  }
 },
 "nbformat": 4,
 "nbformat_minor": 5
}
